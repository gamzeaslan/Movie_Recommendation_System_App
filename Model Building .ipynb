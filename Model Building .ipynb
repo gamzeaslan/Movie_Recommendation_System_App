{
 "cells": [
  {
   "cell_type": "code",
   "execution_count": 19,
   "id": "07089847",
   "metadata": {},
   "outputs": [
    {
     "name": "stdout",
     "output_type": "stream",
     "text": [
      "film : Spider Man\n",
      "Recommended movies: \n",
      "Spider Man\n",
      "Spider Man 2\n",
      "Spider Man 3\n",
      "Oz The Great And Powerful\n",
      "The Amazing Spider Man\n",
      "Maleficent\n",
      "Flyboys\n",
      "Final Fantasy The Spirits Within\n",
      "The Amazing Spider Man 2\n",
      "Anastasia\n"
     ]
    }
   ],
   "source": [
    "import pandas as pd\n",
    "from sklearn.metrics.pairwise import cosine_similarity\n",
    "from sklearn.feature_extraction.text import CountVectorizer\n",
    "\n",
    "df=pd.read_csv(\"all_movies.csv\")\n",
    "df=df.drop(\"Unnamed: 0\",axis=1)\n",
    "\n",
    "# Create the feature set\n",
    "features = ['Title', 'genres', 'title_year', 'director_name', 'actor_name1', 'actor_name2', 'actor_name3']\n",
    "df['combined_features'] = df[features].apply(lambda row: ' '.join(row.values.astype(str)), axis=1)\n",
    "\n",
    "# Convert feature set to vectors using CountVectorizer\n",
    "cv = CountVectorizer()\n",
    "count_matrix = cv.fit_transform(df['combined_features'])\n",
    "\n",
    "# Calculate similarity scores using Cosine Similarity\n",
    "cosine_sim = cosine_similarity(count_matrix)\n",
    "\n",
    "# entering movie name by user\n",
    "liked_movie=input(\"film : \")\n",
    "\n",
    "df[\"Title\"]=df[\"Title\"].str.lower()\n",
    "liked_movie=liked_movie.lower()\n",
    "\n",
    "# find the index of the movie entered by the user\n",
    "liked_movie_index = df[df['Title'] == liked_movie].index.values[0]\n",
    "\n",
    "# Suggest similar movies\n",
    "similar_movies = list(enumerate(cosine_sim[liked_movie_index]))\n",
    "sorted_similar_movies = sorted(similar_movies,key=lambda x:x[1],reverse=True)[0:]\n",
    "\n",
    "print('Recommended movies: ')\n",
    "for i in range(10):\n",
    "    print((df.iloc[sorted_similar_movies[i][0]]['Title']).title())"
   ]
  }
 ],
 "metadata": {
  "kernelspec": {
   "display_name": "Python 3 (ipykernel)",
   "language": "python",
   "name": "python3"
  },
  "language_info": {
   "codemirror_mode": {
    "name": "ipython",
    "version": 3
   },
   "file_extension": ".py",
   "mimetype": "text/x-python",
   "name": "python",
   "nbconvert_exporter": "python",
   "pygments_lexer": "ipython3",
   "version": "3.10.9"
  }
 },
 "nbformat": 4,
 "nbformat_minor": 5
}
